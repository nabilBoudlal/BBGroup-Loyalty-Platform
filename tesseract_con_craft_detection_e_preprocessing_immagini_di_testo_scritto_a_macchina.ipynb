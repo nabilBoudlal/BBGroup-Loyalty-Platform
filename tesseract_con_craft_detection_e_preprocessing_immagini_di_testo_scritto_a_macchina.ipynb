{
  "cells": [
    {
      "cell_type": "markdown",
      "metadata": {
        "id": "view-in-github",
        "colab_type": "text"
      },
      "source": [
        "<a href=\"https://colab.research.google.com/github/nabilBoudlal/BBGroup-Loyalty-Platform/blob/master/tesseract_con_craft_detection_e_preprocessing_immagini_di_testo_scritto_a_macchina.ipynb\" target=\"_parent\"><img src=\"https://colab.research.google.com/assets/colab-badge.svg\" alt=\"Open In Colab\"/></a>"
      ]
    },
    {
      "cell_type": "markdown",
      "metadata": {
        "id": "X45phY1_-UD4"
      },
      "source": [
        "Installazione dei pacchetti necessari:\n",
        "\n"
      ]
    },
    {
      "cell_type": "code",
      "execution_count": null,
      "metadata": {
        "colab": {
          "base_uri": "https://localhost:8080/"
        },
        "id": "lqe1JKfYiVtj",
        "outputId": "59ad219b-aba1-4aed-9713-c4d883c2451d"
      },
      "outputs": [
        {
          "name": "stdout",
          "output_type": "stream",
          "text": [
            "Requirement already satisfied: pytesseract==0.3.8 in /usr/local/lib/python3.10/dist-packages (0.3.8)\n",
            "Requirement already satisfied: Pillow in /usr/local/lib/python3.10/dist-packages (from pytesseract==0.3.8) (8.4.0)\n",
            "Reading package lists... Done\n",
            "Building dependency tree       \n",
            "Reading state information... Done\n",
            "tesseract-ocr is already the newest version (4.1.1-2build2).\n",
            "0 upgraded, 0 newly installed, 0 to remove and 15 not upgraded.\n",
            "Requirement already satisfied: craft-text-detector in /usr/local/lib/python3.10/dist-packages (0.4.3)\n",
            "Requirement already satisfied: torch>=1.6.0 in /usr/local/lib/python3.10/dist-packages (from craft-text-detector) (1.12.0)\n",
            "Requirement already satisfied: torchvision>=0.7.0 in /usr/local/lib/python3.10/dist-packages (from craft-text-detector) (0.13.0)\n",
            "Requirement already satisfied: opencv-python<4.5.4.62,>=3.4.8.29 in /usr/local/lib/python3.10/dist-packages (from craft-text-detector) (4.5.4.60)\n",
            "Requirement already satisfied: scipy>=1.3.2 in /usr/local/lib/python3.10/dist-packages (from craft-text-detector) (1.10.1)\n",
            "Requirement already satisfied: gdown>=3.10.1 in /usr/local/lib/python3.10/dist-packages (from craft-text-detector) (4.6.6)\n",
            "Requirement already satisfied: filelock in /usr/local/lib/python3.10/dist-packages (from gdown>=3.10.1->craft-text-detector) (3.12.2)\n",
            "Requirement already satisfied: requests[socks] in /usr/local/lib/python3.10/dist-packages (from gdown>=3.10.1->craft-text-detector) (2.27.1)\n",
            "Requirement already satisfied: six in /usr/local/lib/python3.10/dist-packages (from gdown>=3.10.1->craft-text-detector) (1.16.0)\n",
            "Requirement already satisfied: tqdm in /usr/local/lib/python3.10/dist-packages (from gdown>=3.10.1->craft-text-detector) (4.65.0)\n",
            "Requirement already satisfied: beautifulsoup4 in /usr/local/lib/python3.10/dist-packages (from gdown>=3.10.1->craft-text-detector) (4.11.2)\n",
            "Requirement already satisfied: numpy>=1.21.2 in /usr/local/lib/python3.10/dist-packages (from opencv-python<4.5.4.62,>=3.4.8.29->craft-text-detector) (1.22.4)\n",
            "Requirement already satisfied: typing-extensions in /usr/local/lib/python3.10/dist-packages (from torch>=1.6.0->craft-text-detector) (4.6.3)\n",
            "Requirement already satisfied: pillow!=8.3.*,>=5.3.0 in /usr/local/lib/python3.10/dist-packages (from torchvision>=0.7.0->craft-text-detector) (8.4.0)\n",
            "Requirement already satisfied: soupsieve>1.2 in /usr/local/lib/python3.10/dist-packages (from beautifulsoup4->gdown>=3.10.1->craft-text-detector) (2.4.1)\n",
            "Requirement already satisfied: urllib3<1.27,>=1.21.1 in /usr/local/lib/python3.10/dist-packages (from requests[socks]->gdown>=3.10.1->craft-text-detector) (1.26.16)\n",
            "Requirement already satisfied: certifi>=2017.4.17 in /usr/local/lib/python3.10/dist-packages (from requests[socks]->gdown>=3.10.1->craft-text-detector) (2023.5.7)\n",
            "Requirement already satisfied: charset-normalizer~=2.0.0 in /usr/local/lib/python3.10/dist-packages (from requests[socks]->gdown>=3.10.1->craft-text-detector) (2.0.12)\n",
            "Requirement already satisfied: idna<4,>=2.5 in /usr/local/lib/python3.10/dist-packages (from requests[socks]->gdown>=3.10.1->craft-text-detector) (3.4)\n",
            "Requirement already satisfied: PySocks!=1.5.7,>=1.5.6 in /usr/local/lib/python3.10/dist-packages (from requests[socks]->gdown>=3.10.1->craft-text-detector) (1.7.1)\n",
            "Requirement already satisfied: torchvision==0.13 in /usr/local/lib/python3.10/dist-packages (0.13.0)\n",
            "Requirement already satisfied: typing-extensions in /usr/local/lib/python3.10/dist-packages (from torchvision==0.13) (4.6.3)\n",
            "Requirement already satisfied: numpy in /usr/local/lib/python3.10/dist-packages (from torchvision==0.13) (1.22.4)\n",
            "Requirement already satisfied: requests in /usr/local/lib/python3.10/dist-packages (from torchvision==0.13) (2.27.1)\n",
            "Requirement already satisfied: torch==1.12.0 in /usr/local/lib/python3.10/dist-packages (from torchvision==0.13) (1.12.0)\n",
            "Requirement already satisfied: pillow!=8.3.*,>=5.3.0 in /usr/local/lib/python3.10/dist-packages (from torchvision==0.13) (8.4.0)\n",
            "Requirement already satisfied: urllib3<1.27,>=1.21.1 in /usr/local/lib/python3.10/dist-packages (from requests->torchvision==0.13) (1.26.16)\n",
            "Requirement already satisfied: certifi>=2017.4.17 in /usr/local/lib/python3.10/dist-packages (from requests->torchvision==0.13) (2023.5.7)\n",
            "Requirement already satisfied: charset-normalizer~=2.0.0 in /usr/local/lib/python3.10/dist-packages (from requests->torchvision==0.13) (2.0.12)\n",
            "Requirement already satisfied: idna<4,>=2.5 in /usr/local/lib/python3.10/dist-packages (from requests->torchvision==0.13) (3.4)\n"
          ]
        }
      ],
      "source": [
        "!pip install pytesseract==0.3.8\n",
        "!apt install tesseract-ocr\n",
        "!pip install craft-text-detector\n",
        "!pip install torchvision==0.13"
      ]
    },
    {
      "cell_type": "code",
      "execution_count": null,
      "metadata": {
        "id": "H7UCA84rt-qn"
      },
      "outputs": [],
      "source": [
        "import cv2\n",
        "import numpy as np\n",
        "from sklearn.cluster import KMeans\n",
        "import pytesseract\n",
        "import shutil\n",
        "import os\n",
        "import random\n",
        "import glob\n",
        "import matplotlib.pyplot as plt\n",
        "import cv2\n",
        "from google.colab.patches import cv2_imshow\n",
        "from PIL import Image\n",
        "\n",
        "\n",
        "def resize_image_to_dpi(image, target_dpi):\n",
        "    # Ottieni la dimensione dell'immagine in pixel\n",
        "    height, width, _ = image.shape\n",
        "\n",
        "    # Calcola la dimensione fisica dell'immagine in pollici\n",
        "    dpi = 96  # La risoluzione di default per le immagini caricate in OpenCV\n",
        "    width_inch = width / dpi\n",
        "    height_inch = height / dpi\n",
        "\n",
        "    # Calcola il nuovo numero di pixel in base alla risoluzione desiderata in DPI\n",
        "    target_width = int(target_dpi * width_inch)\n",
        "    target_height = int(target_dpi * height_inch)\n",
        "\n",
        "    # Ridimensiona l'immagine alla nuova dimensione\n",
        "    resized_image = cv2.resize(image, (target_width, target_height), interpolation=cv2.INTER_CUBIC)\n",
        "\n",
        "    # Ritorna l'immagine ridimensionata\n",
        "    return resized_image\n",
        "\n",
        "\n",
        "def preprocess_image(image_path, target_dpi):\n",
        "    # Carica l'immagine utilizzando OpenCV\n",
        "    image = cv2.imread(image_path)\n",
        "\n",
        "    # Ridimensiona l'immagine al DPI desiderato\n",
        "    resized_image = resize_image_to_dpi(image, target_dpi)\n",
        "\n",
        "    # Converte l'immagine in scala di grigi\n",
        "    gray_image = cv2.cvtColor(resized_image, cv2.COLOR_BGR2GRAY)\n",
        "\n",
        "    kernel = np.ones((1, 1), np.uint8)\n",
        "    img = cv2.dilate(gray_image, kernel, iterations=1)\n",
        "    img = cv2.erode(gray_image, kernel, iterations=1)\n",
        "\n",
        "    cv2.threshold(cv2.GaussianBlur(img, (5, 5), 0), 0, 255, cv2.THRESH_BINARY + cv2.THRESH_OTSU)[1]\n",
        "\n",
        "    cv2.threshold(cv2.bilateralFilter(img, 5, 75, 75), 0, 255, cv2.THRESH_BINARY + cv2.THRESH_OTSU)[1]\n",
        "\n",
        "    cv2.threshold(cv2.medianBlur(img, 3), 0, 255, cv2.THRESH_BINARY + cv2.THRESH_OTSU)[1]\n",
        "\n",
        "    cv2.adaptiveThreshold(cv2.GaussianBlur(img, (5, 5), 0), 255, cv2.ADAPTIVE_THRESH_GAUSSIAN_C, cv2.THRESH_BINARY, 31, 2)\n",
        "\n",
        "    cv2.adaptiveThreshold(cv2.bilateralFilter(img, 9, 75, 75), 255, cv2.ADAPTIVE_THRESH_GAUSSIAN_C, cv2.THRESH_BINARY, 31, 2)\n",
        "\n",
        "    cv2.adaptiveThreshold(cv2.medianBlur(img, 3), 255, cv2.ADAPTIVE_THRESH_GAUSSIAN_C, cv2.THRESH_BINARY, 31, 2)\n",
        "\n",
        "    # Ritorna l'immagine preprocessata\n",
        "    return img\n",
        "\n",
        " def show_crafted_image():\n",
        " image = '/content/outputs/image_text_detection.png'\n",
        " img= Image.open(image)\n",
        " img.show()\n",
        "\n",
        "\n",
        " def empty_folder():\n",
        " # Ottieni la lista dei file nella cartella\n",
        " folder_path= '/content/outputs/image_crops/'\n",
        " file_list = os.listdir(folder_path)\n",
        "\n",
        " # Itera sui file nella lista e elimina ciascun file\n",
        " for file_name in file_list:\n",
        "    # Ottieni il percorso completo del file\n",
        "    file_path = os.path.join(folder_path, file_name)\n",
        "\n",
        "    # Verifica che il percorso sia un file (non una directory)\n",
        "    if os.path.isfile(file_path):\n",
        "        # Elimina il file\n",
        "        os.remove(file_path)\n",
        "\n",
        "\n",
        "def image_crafting(image_path, dpi):\n",
        "  folder_path = '/content/outputs/image_crops/'\n",
        "\n",
        "  # import craft functions\n",
        "  from craft_text_detector import (\n",
        "    read_image,\n",
        "    load_craftnet_model,\n",
        "    load_refinenet_model,\n",
        "    get_prediction,\n",
        "    export_detected_regions,\n",
        "    export_extra_results,\n",
        "    empty_cuda_cache\n",
        "  )\n",
        "\n",
        "  # set image path and export folder directory\n",
        "  # can be filepath, PIL image or numpy array\n",
        "  image= preprocess_image(image_path,dpi)\n",
        "   #image= '/content/drive/MyDrive/Testo a stampa/B12_NEUBAUER-HUGO_20_0000.JPG'\n",
        "  output_dir = 'outputs/'\n",
        "\n",
        "  # read image\n",
        "  image = read_image(image)\n",
        "\n",
        "  # load models\n",
        "  refine_net = load_refinenet_model(cuda=False)\n",
        "  craft_net = load_craftnet_model(cuda=False)\n",
        "\n",
        "# perform prediction\n",
        "  prediction_result = get_prediction(\n",
        "    image=image,\n",
        "    craft_net=craft_net,\n",
        "    refine_net=refine_net,\n",
        "    text_threshold=0.7,\n",
        "    link_threshold=0.4,\n",
        "    low_text=0.4,\n",
        "    cuda=False,\n",
        "    long_size=1280\n",
        " )\n",
        "\n",
        " # export detected text regions\n",
        "  exported_file_paths = export_detected_regions(\n",
        "    image=image,\n",
        "    regions=prediction_result[\"boxes\"],\n",
        "    output_dir=output_dir,\n",
        "    rectify=True\n",
        " )\n",
        "\n",
        " # export heatmap, detection points, box visualization\n",
        "  export_extra_results(\n",
        "    image=image,\n",
        "    regions=prediction_result[\"boxes\"],\n",
        "    heatmaps=prediction_result[\"heatmaps\"],\n",
        "    output_dir=output_dir\n",
        " )\n",
        "\n",
        "\n",
        "def text_recognition():\n",
        " # Percorso della cartella contenente le immagini da elaborare\n",
        " folder_path = '/content/outputs/image_crops/'\n",
        "\n",
        " # Percorso del file di testo in cui verranno scritti i risultati\n",
        " output_file = 'risultati.txt'\n",
        "\n",
        " # Lista dei percorsi completi di tutte le immagini nella cartella\n",
        " image_paths = glob.glob(os.path.join(folder_path, '*.png'))\n",
        " image_paths = sorted(image_paths)\n",
        "\n",
        " # Apri il file di output in modalità scrittura\n",
        " with open(output_file, 'w') as file:\n",
        "    # Itera su ogni immagine\n",
        "    for image_path in image_paths:\n",
        "\n",
        "        # Leggi l'immagine\n",
        "        image = image_path\n",
        "        img= Image.open(image)\n",
        "        img.show()\n",
        "        # Esegui l'OCR sull'immagine\n",
        "        custom_config = r'--psm 7'  # Configurazione personalizzata per il rilevamento del testo\n",
        "        text = pytesseract.image_to_string(image, config=custom_config)\n",
        "        print(text)\n",
        "        # Scrivi il risultato su file\n",
        "        file.write(f\"{text}\")\n",
        "\n"
      ]
    },
    {
      "cell_type": "markdown",
      "source": [
        "Selezione dell'immagine tramire url e risoluzione desiderta (300 dpi valore consigliato da Tesseract)"
      ],
      "metadata": {
        "id": "qvFr5KvZ1j1a"
      }
    },
    {
      "cell_type": "code",
      "execution_count": null,
      "metadata": {
        "colab": {
          "background_save": true
        },
        "id": "nFMUBsq09WZI"
      },
      "outputs": [],
      "source": [
        "image_crafting('/content/drive/MyDrive/Testo a stampa/B12_NEUBAUER-HUGO_1_4_0001.JPG',300)"
      ]
    },
    {
      "cell_type": "markdown",
      "source": [
        "L'immagine segmentata e preprocessata viene passata all'Engine Tesseract che ne estrae il testo riconosciuto e lo salva in un file .txt"
      ],
      "metadata": {
        "id": "igtNikz519s1"
      }
    },
    {
      "cell_type": "code",
      "source": [
        "text_recognition()"
      ],
      "metadata": {
        "id": "murlWnhQ1cbs"
      },
      "execution_count": null,
      "outputs": []
    },
    {
      "cell_type": "code",
      "execution_count": null,
      "metadata": {
        "id": "SJTvoRF1rdEs"
      },
      "outputs": [],
      "source": [
        "empty_folder()"
      ]
    }
  ],
  "metadata": {
    "accelerator": "GPU",
    "colab": {
      "machine_shape": "hm",
      "provenance": [],
      "mount_file_id": "14qyIf_x7oX1zzPbhbpr7QApIzBcwvq3Y",
      "authorship_tag": "ABX9TyMJUgbBDXydJmBrCYff9/Q7",
      "include_colab_link": true
    },
    "kernelspec": {
      "display_name": "Python 3",
      "name": "python3"
    },
    "language_info": {
      "name": "python"
    }
  },
  "nbformat": 4,
  "nbformat_minor": 0
}